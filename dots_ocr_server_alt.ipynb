{
  "cells": [
    {
      "cell_type": "markdown",
      "metadata": {
        "id": "view-in-github",
        "colab_type": "text"
      },
      "source": [
        "<a href=\"https://colab.research.google.com/github/ngoducminh1984vn/Ho-Tro-KT/blob/main/dots_ocr_server_alt.ipynb\" target=\"_parent\"><img src=\"https://colab.research.google.com/assets/colab-badge.svg\" alt=\"Open In Colab\"/></a>"
      ]
    },
    {
      "cell_type": "code",
      "execution_count": 1,
      "metadata": {
        "id": "DJR61tyKiJO6",
        "outputId": "c2cebae1-56ae-4ad6-8c48-04a0fe78edf0",
        "colab": {
          "base_uri": "https://localhost:8080/"
        }
      },
      "outputs": [
        {
          "output_type": "stream",
          "name": "stdout",
          "text": [
            "Looking in indexes: https://download.pytorch.org/whl/cu128\n",
            "Requirement already satisfied: torch==2.7.0 in /usr/local/lib/python3.12/dist-packages (2.7.0+cu128)\n",
            "Requirement already satisfied: torchvision==0.22.0 in /usr/local/lib/python3.12/dist-packages (0.22.0+cu128)\n",
            "Requirement already satisfied: torchaudio==2.7.0 in /usr/local/lib/python3.12/dist-packages (2.7.0+cu128)\n",
            "Requirement already satisfied: filelock in /usr/local/lib/python3.12/dist-packages (from torch==2.7.0) (3.20.0)\n",
            "Requirement already satisfied: typing-extensions>=4.10.0 in /usr/local/lib/python3.12/dist-packages (from torch==2.7.0) (4.15.0)\n",
            "Requirement already satisfied: setuptools in /usr/local/lib/python3.12/dist-packages (from torch==2.7.0) (75.2.0)\n",
            "Requirement already satisfied: sympy>=1.13.3 in /usr/local/lib/python3.12/dist-packages (from torch==2.7.0) (1.13.3)\n",
            "Requirement already satisfied: networkx in /usr/local/lib/python3.12/dist-packages (from torch==2.7.0) (3.5)\n",
            "Requirement already satisfied: jinja2 in /usr/local/lib/python3.12/dist-packages (from torch==2.7.0) (3.1.6)\n",
            "Requirement already satisfied: fsspec in /usr/local/lib/python3.12/dist-packages (from torch==2.7.0) (2025.3.0)\n",
            "Requirement already satisfied: nvidia-cuda-nvrtc-cu12==12.8.61 in /usr/local/lib/python3.12/dist-packages (from torch==2.7.0) (12.8.61)\n",
            "Requirement already satisfied: nvidia-cuda-runtime-cu12==12.8.57 in /usr/local/lib/python3.12/dist-packages (from torch==2.7.0) (12.8.57)\n",
            "Requirement already satisfied: nvidia-cuda-cupti-cu12==12.8.57 in /usr/local/lib/python3.12/dist-packages (from torch==2.7.0) (12.8.57)\n",
            "Requirement already satisfied: nvidia-cudnn-cu12==9.7.1.26 in /usr/local/lib/python3.12/dist-packages (from torch==2.7.0) (9.7.1.26)\n",
            "Requirement already satisfied: nvidia-cublas-cu12==12.8.3.14 in /usr/local/lib/python3.12/dist-packages (from torch==2.7.0) (12.8.3.14)\n",
            "Requirement already satisfied: nvidia-cufft-cu12==11.3.3.41 in /usr/local/lib/python3.12/dist-packages (from torch==2.7.0) (11.3.3.41)\n",
            "Requirement already satisfied: nvidia-curand-cu12==10.3.9.55 in /usr/local/lib/python3.12/dist-packages (from torch==2.7.0) (10.3.9.55)\n",
            "Requirement already satisfied: nvidia-cusolver-cu12==11.7.2.55 in /usr/local/lib/python3.12/dist-packages (from torch==2.7.0) (11.7.2.55)\n",
            "Requirement already satisfied: nvidia-cusparse-cu12==12.5.7.53 in /usr/local/lib/python3.12/dist-packages (from torch==2.7.0) (12.5.7.53)\n",
            "Requirement already satisfied: nvidia-cusparselt-cu12==0.6.3 in /usr/local/lib/python3.12/dist-packages (from torch==2.7.0) (0.6.3)\n",
            "Requirement already satisfied: nvidia-nccl-cu12==2.26.2 in /usr/local/lib/python3.12/dist-packages (from torch==2.7.0) (2.26.2)\n",
            "Requirement already satisfied: nvidia-nvtx-cu12==12.8.55 in /usr/local/lib/python3.12/dist-packages (from torch==2.7.0) (12.8.55)\n",
            "Requirement already satisfied: nvidia-nvjitlink-cu12==12.8.61 in /usr/local/lib/python3.12/dist-packages (from torch==2.7.0) (12.8.61)\n",
            "Requirement already satisfied: nvidia-cufile-cu12==1.13.0.11 in /usr/local/lib/python3.12/dist-packages (from torch==2.7.0) (1.13.0.11)\n",
            "Requirement already satisfied: triton==3.3.0 in /usr/local/lib/python3.12/dist-packages (from torch==2.7.0) (3.3.0)\n",
            "Requirement already satisfied: numpy in /usr/local/lib/python3.12/dist-packages (from torchvision==0.22.0) (2.0.2)\n",
            "Requirement already satisfied: pillow!=8.3.*,>=5.3.0 in /usr/local/lib/python3.12/dist-packages (from torchvision==0.22.0) (11.3.0)\n",
            "Requirement already satisfied: mpmath<1.4,>=1.1.0 in /usr/local/lib/python3.12/dist-packages (from sympy>=1.13.3->torch==2.7.0) (1.3.0)\n",
            "Requirement already satisfied: MarkupSafe>=2.0 in /usr/local/lib/python3.12/dist-packages (from jinja2->torch==2.7.0) (3.0.3)\n",
            "Obtaining file:///content\n",
            "\u001b[31mERROR: file:///content does not appear to be a Python project: neither 'setup.py' nor 'pyproject.toml' found.\u001b[0m\u001b[31m\n",
            "\u001b[0mfatal: destination path 'dots.ocr' already exists and is not an empty directory.\n",
            "/content/dots.ocr\n",
            "Obtaining file:///content/dots.ocr\n",
            "  Preparing metadata (setup.py) ... \u001b[?25l\u001b[?25hdone\n",
            "Requirement already satisfied: gradio in /usr/local/lib/python3.12/dist-packages (from dots_ocr==1.0) (5.49.1)\n",
            "Requirement already satisfied: gradio_image_annotation in /usr/local/lib/python3.12/dist-packages (from dots_ocr==1.0) (0.4.0)\n",
            "Requirement already satisfied: PyMuPDF in /usr/local/lib/python3.12/dist-packages (from dots_ocr==1.0) (1.26.5)\n",
            "Requirement already satisfied: openai in /usr/local/lib/python3.12/dist-packages (from dots_ocr==1.0) (1.109.1)\n",
            "Requirement already satisfied: qwen_vl_utils in /usr/local/lib/python3.12/dist-packages (from dots_ocr==1.0) (0.0.14)\n",
            "Requirement already satisfied: transformers==4.51.3 in /usr/local/lib/python3.12/dist-packages (from dots_ocr==1.0) (4.51.3)\n",
            "Requirement already satisfied: huggingface_hub in /usr/local/lib/python3.12/dist-packages (from dots_ocr==1.0) (0.35.3)\n",
            "Requirement already satisfied: modelscope in /usr/local/lib/python3.12/dist-packages (from dots_ocr==1.0) (1.31.0)\n",
            "Requirement already satisfied: flash-attn==2.8.0.post2 in /usr/local/lib/python3.12/dist-packages (from dots_ocr==1.0) (2.8.0.post2)\n",
            "Requirement already satisfied: accelerate in /usr/local/lib/python3.12/dist-packages (from dots_ocr==1.0) (1.10.1)\n",
            "Requirement already satisfied: torch in /usr/local/lib/python3.12/dist-packages (from flash-attn==2.8.0.post2->dots_ocr==1.0) (2.7.0+cu128)\n",
            "Requirement already satisfied: einops in /usr/local/lib/python3.12/dist-packages (from flash-attn==2.8.0.post2->dots_ocr==1.0) (0.8.1)\n",
            "Requirement already satisfied: filelock in /usr/local/lib/python3.12/dist-packages (from transformers==4.51.3->dots_ocr==1.0) (3.20.0)\n",
            "Requirement already satisfied: numpy>=1.17 in /usr/local/lib/python3.12/dist-packages (from transformers==4.51.3->dots_ocr==1.0) (2.0.2)\n",
            "Requirement already satisfied: packaging>=20.0 in /usr/local/lib/python3.12/dist-packages (from transformers==4.51.3->dots_ocr==1.0) (25.0)\n",
            "Requirement already satisfied: pyyaml>=5.1 in /usr/local/lib/python3.12/dist-packages (from transformers==4.51.3->dots_ocr==1.0) (6.0.3)\n",
            "Requirement already satisfied: regex!=2019.12.17 in /usr/local/lib/python3.12/dist-packages (from transformers==4.51.3->dots_ocr==1.0) (2024.11.6)\n",
            "Requirement already satisfied: requests in /usr/local/lib/python3.12/dist-packages (from transformers==4.51.3->dots_ocr==1.0) (2.32.4)\n",
            "Requirement already satisfied: tokenizers<0.22,>=0.21 in /usr/local/lib/python3.12/dist-packages (from transformers==4.51.3->dots_ocr==1.0) (0.21.4)\n",
            "Requirement already satisfied: safetensors>=0.4.3 in /usr/local/lib/python3.12/dist-packages (from transformers==4.51.3->dots_ocr==1.0) (0.6.2)\n",
            "Requirement already satisfied: tqdm>=4.27 in /usr/local/lib/python3.12/dist-packages (from transformers==4.51.3->dots_ocr==1.0) (4.67.1)\n",
            "Requirement already satisfied: fsspec>=2023.5.0 in /usr/local/lib/python3.12/dist-packages (from huggingface_hub->dots_ocr==1.0) (2025.3.0)\n",
            "Requirement already satisfied: typing-extensions>=3.7.4.3 in /usr/local/lib/python3.12/dist-packages (from huggingface_hub->dots_ocr==1.0) (4.15.0)\n",
            "Requirement already satisfied: hf-xet<2.0.0,>=1.1.3 in /usr/local/lib/python3.12/dist-packages (from huggingface_hub->dots_ocr==1.0) (1.1.10)\n",
            "Requirement already satisfied: psutil in /usr/local/lib/python3.12/dist-packages (from accelerate->dots_ocr==1.0) (5.9.5)\n",
            "Requirement already satisfied: aiofiles<25.0,>=22.0 in /usr/local/lib/python3.12/dist-packages (from gradio->dots_ocr==1.0) (24.1.0)\n",
            "Requirement already satisfied: anyio<5.0,>=3.0 in /usr/local/lib/python3.12/dist-packages (from gradio->dots_ocr==1.0) (4.11.0)\n",
            "Requirement already satisfied: brotli>=1.1.0 in /usr/local/lib/python3.12/dist-packages (from gradio->dots_ocr==1.0) (1.1.0)\n",
            "Requirement already satisfied: fastapi<1.0,>=0.115.2 in /usr/local/lib/python3.12/dist-packages (from gradio->dots_ocr==1.0) (0.119.0)\n",
            "Requirement already satisfied: ffmpy in /usr/local/lib/python3.12/dist-packages (from gradio->dots_ocr==1.0) (0.6.3)\n",
            "Requirement already satisfied: gradio-client==1.13.3 in /usr/local/lib/python3.12/dist-packages (from gradio->dots_ocr==1.0) (1.13.3)\n",
            "Requirement already satisfied: groovy~=0.1 in /usr/local/lib/python3.12/dist-packages (from gradio->dots_ocr==1.0) (0.1.2)\n",
            "Requirement already satisfied: httpx<1.0,>=0.24.1 in /usr/local/lib/python3.12/dist-packages (from gradio->dots_ocr==1.0) (0.28.1)\n",
            "Requirement already satisfied: jinja2<4.0 in /usr/local/lib/python3.12/dist-packages (from gradio->dots_ocr==1.0) (3.1.6)\n",
            "Requirement already satisfied: markupsafe<4.0,>=2.0 in /usr/local/lib/python3.12/dist-packages (from gradio->dots_ocr==1.0) (3.0.3)\n",
            "Requirement already satisfied: orjson~=3.0 in /usr/local/lib/python3.12/dist-packages (from gradio->dots_ocr==1.0) (3.11.3)\n",
            "Requirement already satisfied: pandas<3.0,>=1.0 in /usr/local/lib/python3.12/dist-packages (from gradio->dots_ocr==1.0) (2.2.2)\n",
            "Requirement already satisfied: pillow<12.0,>=8.0 in /usr/local/lib/python3.12/dist-packages (from gradio->dots_ocr==1.0) (11.3.0)\n",
            "Requirement already satisfied: pydantic<2.12,>=2.0 in /usr/local/lib/python3.12/dist-packages (from gradio->dots_ocr==1.0) (2.11.10)\n",
            "Requirement already satisfied: pydub in /usr/local/lib/python3.12/dist-packages (from gradio->dots_ocr==1.0) (0.25.1)\n",
            "Requirement already satisfied: python-multipart>=0.0.18 in /usr/local/lib/python3.12/dist-packages (from gradio->dots_ocr==1.0) (0.0.20)\n",
            "Requirement already satisfied: ruff>=0.9.3 in /usr/local/lib/python3.12/dist-packages (from gradio->dots_ocr==1.0) (0.14.0)\n",
            "Requirement already satisfied: safehttpx<0.2.0,>=0.1.6 in /usr/local/lib/python3.12/dist-packages (from gradio->dots_ocr==1.0) (0.1.6)\n",
            "Requirement already satisfied: semantic-version~=2.0 in /usr/local/lib/python3.12/dist-packages (from gradio->dots_ocr==1.0) (2.10.0)\n",
            "Requirement already satisfied: starlette<1.0,>=0.40.0 in /usr/local/lib/python3.12/dist-packages (from gradio->dots_ocr==1.0) (0.48.0)\n",
            "Requirement already satisfied: tomlkit<0.14.0,>=0.12.0 in /usr/local/lib/python3.12/dist-packages (from gradio->dots_ocr==1.0) (0.13.3)\n",
            "Requirement already satisfied: typer<1.0,>=0.12 in /usr/local/lib/python3.12/dist-packages (from gradio->dots_ocr==1.0) (0.19.2)\n",
            "Requirement already satisfied: uvicorn>=0.14.0 in /usr/local/lib/python3.12/dist-packages (from gradio->dots_ocr==1.0) (0.37.0)\n",
            "Requirement already satisfied: websockets<16.0,>=13.0 in /usr/local/lib/python3.12/dist-packages (from gradio-client==1.13.3->gradio->dots_ocr==1.0) (15.0.1)\n",
            "Requirement already satisfied: setuptools in /usr/local/lib/python3.12/dist-packages (from modelscope->dots_ocr==1.0) (75.2.0)\n",
            "Requirement already satisfied: urllib3>=1.26 in /usr/local/lib/python3.12/dist-packages (from modelscope->dots_ocr==1.0) (2.5.0)\n",
            "Requirement already satisfied: distro<2,>=1.7.0 in /usr/local/lib/python3.12/dist-packages (from openai->dots_ocr==1.0) (1.9.0)\n",
            "Requirement already satisfied: jiter<1,>=0.4.0 in /usr/local/lib/python3.12/dist-packages (from openai->dots_ocr==1.0) (0.11.0)\n",
            "Requirement already satisfied: sniffio in /usr/local/lib/python3.12/dist-packages (from openai->dots_ocr==1.0) (1.3.1)\n",
            "Requirement already satisfied: av in /usr/local/lib/python3.12/dist-packages (from qwen_vl_utils->dots_ocr==1.0) (16.0.1)\n",
            "Requirement already satisfied: idna>=2.8 in /usr/local/lib/python3.12/dist-packages (from anyio<5.0,>=3.0->gradio->dots_ocr==1.0) (3.11)\n",
            "Requirement already satisfied: certifi in /usr/local/lib/python3.12/dist-packages (from httpx<1.0,>=0.24.1->gradio->dots_ocr==1.0) (2025.10.5)\n",
            "Requirement already satisfied: httpcore==1.* in /usr/local/lib/python3.12/dist-packages (from httpx<1.0,>=0.24.1->gradio->dots_ocr==1.0) (1.0.9)\n",
            "Requirement already satisfied: h11>=0.16 in /usr/local/lib/python3.12/dist-packages (from httpcore==1.*->httpx<1.0,>=0.24.1->gradio->dots_ocr==1.0) (0.16.0)\n",
            "Requirement already satisfied: python-dateutil>=2.8.2 in /usr/local/lib/python3.12/dist-packages (from pandas<3.0,>=1.0->gradio->dots_ocr==1.0) (2.9.0.post0)\n",
            "Requirement already satisfied: pytz>=2020.1 in /usr/local/lib/python3.12/dist-packages (from pandas<3.0,>=1.0->gradio->dots_ocr==1.0) (2025.2)\n",
            "Requirement already satisfied: tzdata>=2022.7 in /usr/local/lib/python3.12/dist-packages (from pandas<3.0,>=1.0->gradio->dots_ocr==1.0) (2025.2)\n",
            "Requirement already satisfied: annotated-types>=0.6.0 in /usr/local/lib/python3.12/dist-packages (from pydantic<2.12,>=2.0->gradio->dots_ocr==1.0) (0.7.0)\n",
            "Requirement already satisfied: pydantic-core==2.33.2 in /usr/local/lib/python3.12/dist-packages (from pydantic<2.12,>=2.0->gradio->dots_ocr==1.0) (2.33.2)\n",
            "Requirement already satisfied: typing-inspection>=0.4.0 in /usr/local/lib/python3.12/dist-packages (from pydantic<2.12,>=2.0->gradio->dots_ocr==1.0) (0.4.2)\n",
            "Requirement already satisfied: charset_normalizer<4,>=2 in /usr/local/lib/python3.12/dist-packages (from requests->transformers==4.51.3->dots_ocr==1.0) (3.4.4)\n",
            "Requirement already satisfied: sympy>=1.13.3 in /usr/local/lib/python3.12/dist-packages (from torch->flash-attn==2.8.0.post2->dots_ocr==1.0) (1.13.3)\n",
            "Requirement already satisfied: networkx in /usr/local/lib/python3.12/dist-packages (from torch->flash-attn==2.8.0.post2->dots_ocr==1.0) (3.5)\n",
            "Requirement already satisfied: nvidia-cuda-nvrtc-cu12==12.8.61 in /usr/local/lib/python3.12/dist-packages (from torch->flash-attn==2.8.0.post2->dots_ocr==1.0) (12.8.61)\n",
            "Requirement already satisfied: nvidia-cuda-runtime-cu12==12.8.57 in /usr/local/lib/python3.12/dist-packages (from torch->flash-attn==2.8.0.post2->dots_ocr==1.0) (12.8.57)\n",
            "Requirement already satisfied: nvidia-cuda-cupti-cu12==12.8.57 in /usr/local/lib/python3.12/dist-packages (from torch->flash-attn==2.8.0.post2->dots_ocr==1.0) (12.8.57)\n",
            "Requirement already satisfied: nvidia-cudnn-cu12==9.7.1.26 in /usr/local/lib/python3.12/dist-packages (from torch->flash-attn==2.8.0.post2->dots_ocr==1.0) (9.7.1.26)\n",
            "Requirement already satisfied: nvidia-cublas-cu12==12.8.3.14 in /usr/local/lib/python3.12/dist-packages (from torch->flash-attn==2.8.0.post2->dots_ocr==1.0) (12.8.3.14)\n",
            "Requirement already satisfied: nvidia-cufft-cu12==11.3.3.41 in /usr/local/lib/python3.12/dist-packages (from torch->flash-attn==2.8.0.post2->dots_ocr==1.0) (11.3.3.41)\n",
            "Requirement already satisfied: nvidia-curand-cu12==10.3.9.55 in /usr/local/lib/python3.12/dist-packages (from torch->flash-attn==2.8.0.post2->dots_ocr==1.0) (10.3.9.55)\n",
            "Requirement already satisfied: nvidia-cusolver-cu12==11.7.2.55 in /usr/local/lib/python3.12/dist-packages (from torch->flash-attn==2.8.0.post2->dots_ocr==1.0) (11.7.2.55)\n",
            "Requirement already satisfied: nvidia-cusparse-cu12==12.5.7.53 in /usr/local/lib/python3.12/dist-packages (from torch->flash-attn==2.8.0.post2->dots_ocr==1.0) (12.5.7.53)\n",
            "Requirement already satisfied: nvidia-cusparselt-cu12==0.6.3 in /usr/local/lib/python3.12/dist-packages (from torch->flash-attn==2.8.0.post2->dots_ocr==1.0) (0.6.3)\n",
            "Requirement already satisfied: nvidia-nccl-cu12==2.26.2 in /usr/local/lib/python3.12/dist-packages (from torch->flash-attn==2.8.0.post2->dots_ocr==1.0) (2.26.2)\n",
            "Requirement already satisfied: nvidia-nvtx-cu12==12.8.55 in /usr/local/lib/python3.12/dist-packages (from torch->flash-attn==2.8.0.post2->dots_ocr==1.0) (12.8.55)\n",
            "Requirement already satisfied: nvidia-nvjitlink-cu12==12.8.61 in /usr/local/lib/python3.12/dist-packages (from torch->flash-attn==2.8.0.post2->dots_ocr==1.0) (12.8.61)\n",
            "Requirement already satisfied: nvidia-cufile-cu12==1.13.0.11 in /usr/local/lib/python3.12/dist-packages (from torch->flash-attn==2.8.0.post2->dots_ocr==1.0) (1.13.0.11)\n",
            "Requirement already satisfied: triton==3.3.0 in /usr/local/lib/python3.12/dist-packages (from torch->flash-attn==2.8.0.post2->dots_ocr==1.0) (3.3.0)\n",
            "Requirement already satisfied: click>=8.0.0 in /usr/local/lib/python3.12/dist-packages (from typer<1.0,>=0.12->gradio->dots_ocr==1.0) (8.3.0)\n",
            "Requirement already satisfied: shellingham>=1.3.0 in /usr/local/lib/python3.12/dist-packages (from typer<1.0,>=0.12->gradio->dots_ocr==1.0) (1.5.4)\n",
            "Requirement already satisfied: rich>=10.11.0 in /usr/local/lib/python3.12/dist-packages (from typer<1.0,>=0.12->gradio->dots_ocr==1.0) (13.9.4)\n",
            "Requirement already satisfied: six>=1.5 in /usr/local/lib/python3.12/dist-packages (from python-dateutil>=2.8.2->pandas<3.0,>=1.0->gradio->dots_ocr==1.0) (1.17.0)\n",
            "Requirement already satisfied: markdown-it-py>=2.2.0 in /usr/local/lib/python3.12/dist-packages (from rich>=10.11.0->typer<1.0,>=0.12->gradio->dots_ocr==1.0) (4.0.0)\n",
            "Requirement already satisfied: pygments<3.0.0,>=2.13.0 in /usr/local/lib/python3.12/dist-packages (from rich>=10.11.0->typer<1.0,>=0.12->gradio->dots_ocr==1.0) (2.19.2)\n",
            "Requirement already satisfied: mpmath<1.4,>=1.1.0 in /usr/local/lib/python3.12/dist-packages (from sympy>=1.13.3->torch->flash-attn==2.8.0.post2->dots_ocr==1.0) (1.3.0)\n",
            "Requirement already satisfied: mdurl~=0.1 in /usr/local/lib/python3.12/dist-packages (from markdown-it-py>=2.2.0->rich>=10.11.0->typer<1.0,>=0.12->gradio->dots_ocr==1.0) (0.1.2)\n",
            "Installing collected packages: dots_ocr\n",
            "  Attempting uninstall: dots_ocr\n",
            "    Found existing installation: dots_ocr 1.0\n",
            "    Uninstalling dots_ocr-1.0:\n",
            "      Successfully uninstalled dots_ocr-1.0\n",
            "  Running setup.py develop for dots_ocr\n",
            "Successfully installed dots_ocr-1.0\n",
            "Attention: The model save dir dots.ocr should be replace by a name without `.` like DotsOCR, util we merge our code to transformers.\n",
            "/usr/local/lib/python3.12/dist-packages/huggingface_hub/file_download.py:945: FutureWarning: `resume_download` is deprecated and will be removed in version 1.0.0. Downloads always resume when possible. If you want to force a new download, use `force_download=True`.\n",
            "  warnings.warn(\n",
            "/usr/local/lib/python3.12/dist-packages/huggingface_hub/file_download.py:982: UserWarning: `local_dir_use_symlinks` parameter is deprecated and will be ignored. The process to download files to a local folder has been updated and do not rely on symlinks anymore. You only need to pass a destination folder as`local_dir`.\n",
            "For more details, check out https://huggingface.co/docs/huggingface_hub/main/en/guides/download#download-files-to-local-folder.\n",
            "  warnings.warn(\n",
            "Fetching 20 files: 100% 20/20 [00:00<00:00, 1563.46it/s]\n",
            "model downloaded to /content/dots.ocr/weights/DotsOCR\n"
          ]
        }
      ],
      "source": [
        "!pip install torch==2.7.0 torchvision==0.22.0 torchaudio==2.7.0 --index-url https://download.pytorch.org/whl/cu128\n",
        "!pip install -e .\n",
        "!git clone https://github.com/rednote-hilab/dots.ocr.git\n",
        "%cd dots.ocr\n",
        "!pip install -e .\n",
        "!python3 tools/download_model.py\n"
      ]
    },
    {
      "cell_type": "code",
      "execution_count": 2,
      "metadata": {
        "id": "JSyVPLbCO4zu",
        "outputId": "e4550436-36a8-4985-bb7f-59b21fd9dab9",
        "colab": {
          "base_uri": "https://localhost:8080/"
        }
      },
      "outputs": [
        {
          "output_type": "stream",
          "name": "stdout",
          "text": [
            "\r0% [Working]\r            \rHit:1 https://cloud.r-project.org/bin/linux/ubuntu jammy-cran40/ InRelease\n",
            "\r0% [Connecting to archive.ubuntu.com (91.189.91.83)] [Connecting to security.ub\r                                                                               \rHit:2 https://developer.download.nvidia.com/compute/cuda/repos/ubuntu2204/x86_64  InRelease\n",
            "Hit:3 https://cli.github.com/packages stable InRelease\n",
            "Hit:4 http://security.ubuntu.com/ubuntu jammy-security InRelease\n",
            "Hit:5 http://archive.ubuntu.com/ubuntu jammy InRelease\n",
            "Hit:6 http://archive.ubuntu.com/ubuntu jammy-updates InRelease\n",
            "Hit:7 https://ppa.launchpadcontent.net/deadsnakes/ppa/ubuntu jammy InRelease\n",
            "Hit:8 http://archive.ubuntu.com/ubuntu jammy-backports InRelease\n",
            "Hit:9 https://r2u.stat.illinois.edu/ubuntu jammy InRelease\n",
            "Hit:10 https://ppa.launchpadcontent.net/graphics-drivers/ppa/ubuntu jammy InRelease\n",
            "Hit:11 https://ppa.launchpadcontent.net/ubuntugis/ppa/ubuntu jammy InRelease\n",
            "Reading package lists... Done\n",
            "W: Skipping acquire of configured file 'main/source/Sources' as repository 'https://r2u.stat.illinois.edu/ubuntu jammy InRelease' does not seem to provide it (sources.list entry misspelt?)\n",
            "Reading package lists... Done\n",
            "Building dependency tree... Done\n",
            "Reading state information... Done\n",
            "poppler-utils is already the newest version (22.02.0-2ubuntu0.11).\n",
            "0 upgraded, 0 newly installed, 0 to remove and 40 not upgraded.\n",
            "Downloading...\n",
            "From: https://drive.google.com/uc?id=1kdyLRFpabvfm3o7-ax7Auk5Ritx4NciD\n",
            "To: /content/dots.ocr/vi_table.pdf\n",
            "100% 200k/200k [00:00<00:00, 107MB/s]\n",
            "Requirement already satisfied: pdf2image in /usr/local/lib/python3.12/dist-packages (1.17.0)\n",
            "Requirement already satisfied: pillow in /usr/local/lib/python3.12/dist-packages (11.3.0)\n"
          ]
        }
      ],
      "source": [
        "!apt-get update\n",
        "!apt-get install -y poppler-utils\n",
        "!gdown 1kdyLRFpabvfm3o7-ax7Auk5Ritx4NciD\n",
        "!pip install pdf2image pillow\n"
      ]
    },
    {
      "cell_type": "code",
      "execution_count": 3,
      "metadata": {
        "id": "Y8fcR9XcnAJF"
      },
      "outputs": [],
      "source": [
        "import os\n",
        "if \"LOCAL_RANK\" not in os.environ:\n",
        "    os.environ[\"LOCAL_RANK\"] = \"0\"\n",
        "\n",
        "import torch\n",
        "from transformers import AutoModelForCausalLM, AutoProcessor, AutoTokenizer\n",
        "from qwen_vl_utils import process_vision_info\n",
        "from dots_ocr.utils import dict_promptmode_to_prompt\n",
        "\n",
        "\n",
        "\n"
      ]
    },
    {
      "cell_type": "markdown",
      "metadata": {
        "id": "_nlFxmdo9IdI"
      },
      "source": [
        "<table><thead><tr><th rowspan=\"2\">Số TT</th><th rowspan=\"2\">Nội dung</th><th rowspan=\"2\">Mã dự án</th><th colspan=\"2\">Lưu kế vốn đã giải ngân từ khối công đến hết năm ngân sách trước năm quyết toán</th><th rowspan=\"2\">Số vốn tạm ứng theo chế độ chưa thu hồi của các năm trước năm nộp điều chỉnh giảm trong năm quyết toán</th><th rowspan=\"2\">Thanh toán khối lượng hoàn thành trong năm quyết toán phần vốn tạm ứng theo chế độ chưa thu hồi từ khối công đến hết năm ngân sách trước năm quyết toán</th><th colspan=\"5\">Kế hoạch và giải ngân vốn kế hoạch các năm trước được kéo dài thời gian thực hiện và giải ngân sang năm quyết toán</th><th colspan=\"8\">Kế hoạch và giải ngân vốn kế hoạch năm quyết toán</th><th rowspan=\"2\">Tổng số vốn đã thành toán khối lượng hoàn thành được quyết toán trong năm ...</th><th rowspan=\"2\">Lưu kế vốn tạm ứng theo chế độ chưa thu hồi đến hết năm quyết toán chuyển sang các năm sau</th><th rowspan=\"2\">Lãy kế số vốn đã giải ngân từ khối công đến hết năm quyết toán</th></tr><tr><th>Tổng số</th><th>Trong đó: vốn tạm ứng theo chế độ chưa thu hồi</th><th>Vốn kế hoạch được kéo dài</th><th>Giải ngân</th><th>Thanh toán khối lượng hoàn thành</th><th>Vốn tạm ứng</th><th>Vốn kế hoạch tiếp tục được phép kéo dài thời gian thực hiện và giải ngân sang năm sau năm quyết toán (nếu có)</th><th>Số vốn còn lại chưa giải ngân hủy bỏ (nếu có)</th><th>Vốn kế hoạch đượcwäp</th><th>Giải ngân</th><th>Thanh toán khối lượng hoàn thành</th><th>Vốn tạm ứng</th><th>Vốn kế hoạch được phép kéo dài thời gian thực hiện và giải ngân sang năm sau năm quyết toán (nếu có)</th><th>Số vốn còn lại chưa giải ngân hủy bỏ (nếu có)</th></tr><tr><th>1</th><th>2</th><th>3</th><th>4</th><th>5</th><th>6</th><th>7</th><th>8</th><th>9=10+11</th><th>10</th><th>11</th><th>12</th><th>13=8-9-12</th><th>14</th><th>15=16+17</th><th>16</th><th>17</th><th>18</th><th>19=14-15-18</th><th>20=7+10+16</th><th>21=5-6-7+11+17</th><th>22=4-6+9+15</th></tr></thead><tbody><tr><td></td><td>Vốn trong nước</td><td></td><td></td><td></td><td></td><td></td><td></td><td></td><td></td><td></td><td></td><td></td><td></td><td></td><td></td><td></td><td></td><td></td><td></td><td></td><td></td><td></td><td></td></tr><tr><td></td><td>Vốn nước ngoài, trong đó:</td><td></td><td></td><td></td><td></td><td></td><td></td><td></td><td></td><td></td><td></td><td></td><td></td><td></td><td></td><td></td><td></td><td></td><td></td><td></td><td></td><td></td><td></td></tr><tr><td></td><td>- Giải ngân theo cơ chế ghi thu, ghi chi</td><td></td><td></td><td></td><td></td><td></td><td></td><td></td><td></td><td></td><td></td><td></td><td></td><td></td><td></td><td></td><td></td><td></td><td></td><td></td><td></td><td></td><td></td></tr><tr><td></td><td>- Giải ngân theo cơ chế tài chính trong nước</td><td></td><td></td><td></td><td></td><td></td><td></td><td></td><td></td><td></td><td></td><td></td><td></td><td></td><td></td><td></td><td></td><td></td><td></td><td></td><td></td><td></td><td></td></tr><tr><td>2</td><td>Chương trình mục tiêu quốc gia...</td><td></td><td></td><td></td><td></td><td></td><td></td><td></td><td></td><td></td><td></td><td></td><td></td><td></td><td></td><td></td><td></td><td></td><td></td><td></td><td></td><td></td><td></td></tr><tr><td>b.3</td><td>Vốn ngân sách trung ương bổ sung ngoài kế hoạch được giao</td><td></td><td></td><td></td><td></td><td></td><td></td><td></td><td></td><td></td><td></td><td></td><td></td><td></td><td></td><td></td><td></td><td></td><td></td><td></td><td></td><td></td><td></td></tr><tr><td>1</td><td>Ngành, lĩnh vực (mã ngành, lĩnh vực)...</td><td></td><td></td><td></td><td></td><td></td><td></td><td></td><td></td><td></td><td></td><td></td><td></td><td></td><td></td><td></td><td></td><td></td><td></td><td></td><td></td><td></td><td></td></tr><tr><td></td><td>Nguyên vốn</td><td></td><td></td><td></td><td></td><td></td><td></td><td></td><td></td><td></td><td></td><td></td><td></td><td></td><td></td><td></td><td></td><td></td><td></td><td></td><td></td><td></td><td></td></tr><tr><td></td><td>Dự án...</td><td></td><td></td><td></td><td></td><td></td><td></td><td></td><td></td><td></td><td></td><td></td><td></td><td></td><td></td><td></td><td></td><td></td><td></td><td></td><td></td><td></td><td></td></tr></tbody></table>\n",
        "\n",
        "Ghi chú:\n",
        "\n",
        "- Casi quan thanh toán báo cáo ngành, lĩnh vực theo đúng thứ tư quy định tại Điều 3 Nghị định số 163/2016/NĐ-CP ngày 21/12/2016.\n",
        "\n",
        "- Vốn ngân sách trung ương bổ sung ngoài kế hoạch được giao là vốn bổ sung từ nguồn dự phòng, tăng thu\n",
        "\n",
        "... ngày ... tháng ... năm ...\n",
        "\n",
        "LÃNH ĐẠO CƠ QUAN THANH TOÁN\n",
        "\n",
        "(Ký, ghi rõ họ tên,承接 vụ và đóng đầu)"
      ]
    },
    {
      "cell_type": "code",
      "execution_count": 4,
      "metadata": {
        "id": "sx-uOxrJQD2v",
        "outputId": "5913afb3-f005-4b5f-a720-0aaae05281d8",
        "colab": {
          "base_uri": "https://localhost:8080/"
        }
      },
      "outputs": [
        {
          "output_type": "stream",
          "name": "stdout",
          "text": [
            "Requirement already satisfied: flask_cors in /usr/local/lib/python3.12/dist-packages (6.0.1)\n",
            "Requirement already satisfied: flask>=0.9 in /usr/local/lib/python3.12/dist-packages (from flask_cors) (3.1.2)\n",
            "Requirement already satisfied: Werkzeug>=0.7 in /usr/local/lib/python3.12/dist-packages (from flask_cors) (3.1.3)\n",
            "Requirement already satisfied: blinker>=1.9.0 in /usr/local/lib/python3.12/dist-packages (from flask>=0.9->flask_cors) (1.9.0)\n",
            "Requirement already satisfied: click>=8.1.3 in /usr/local/lib/python3.12/dist-packages (from flask>=0.9->flask_cors) (8.3.0)\n",
            "Requirement already satisfied: itsdangerous>=2.2.0 in /usr/local/lib/python3.12/dist-packages (from flask>=0.9->flask_cors) (2.2.0)\n",
            "Requirement already satisfied: jinja2>=3.1.2 in /usr/local/lib/python3.12/dist-packages (from flask>=0.9->flask_cors) (3.1.6)\n",
            "Requirement already satisfied: markupsafe>=2.1.1 in /usr/local/lib/python3.12/dist-packages (from flask>=0.9->flask_cors) (3.0.3)\n"
          ]
        }
      ],
      "source": [
        "!pip install flask_cors"
      ]
    },
    {
      "cell_type": "code",
      "execution_count": 5,
      "metadata": {
        "id": "LVcm__n_QRkG",
        "outputId": "1aeb2384-409b-4105-e958-025d914278e2",
        "colab": {
          "base_uri": "https://localhost:8080/"
        }
      },
      "outputs": [
        {
          "output_type": "stream",
          "name": "stdout",
          "text": [
            "Requirement already satisfied: pyngrok in /usr/local/lib/python3.12/dist-packages (7.4.0)\n",
            "Requirement already satisfied: PyYAML>=5.1 in /usr/local/lib/python3.12/dist-packages (from pyngrok) (6.0.3)\n"
          ]
        }
      ],
      "source": [
        "!pip install pyngrok"
      ]
    },
    {
      "cell_type": "code",
      "execution_count": 6,
      "metadata": {
        "id": "4fxVMQLcQetl",
        "outputId": "1389e492-00e4-4770-8e15-c4775c4e171d",
        "colab": {
          "base_uri": "https://localhost:8080/"
        }
      },
      "outputs": [
        {
          "output_type": "stream",
          "name": "stdout",
          "text": []
        }
      ],
      "source": [
        "from google.colab import userdata\n",
        "from pyngrok import ngrok\n",
        "from flask import Flask, jsonify, request\n",
        "from flask_cors import CORS\n",
        "\n",
        "# Replace 'YOUR_NGROK_AUTHTOKEN' with the authtoken you copied from the ngrok dashboard\n",
        "authtoken = userdata.get(\"ngrok_key\")\n",
        "ngrok.set_auth_token(authtoken)"
      ]
    },
    {
      "cell_type": "code",
      "execution_count": 7,
      "metadata": {
        "id": "4s7Inc6oQmVH",
        "outputId": "f9fc1b97-d8e8-468f-c22c-c3e9f1c0501a",
        "colab": {
          "base_uri": "https://localhost:8080/"
        }
      },
      "outputs": [
        {
          "output_type": "stream",
          "name": "stdout",
          "text": [
            "Requirement already satisfied: pdf2image in /usr/local/lib/python3.12/dist-packages (1.17.0)\n",
            "Requirement already satisfied: pillow in /usr/local/lib/python3.12/dist-packages (11.3.0)\n"
          ]
        }
      ],
      "source": [
        "!pip install pdf2image pillow"
      ]
    },
    {
      "cell_type": "code",
      "execution_count": 8,
      "metadata": {
        "id": "YUfcHRzvQLdr",
        "outputId": "69b69a9d-a045-4583-b6f5-2cb01a9aef24",
        "colab": {
          "base_uri": "https://localhost:8080/"
        }
      },
      "outputs": [
        {
          "output_type": "execute_result",
          "data": {
            "text/plain": [
              "<flask_cors.extension.CORS at 0x7b703c8085f0>"
            ]
          },
          "metadata": {},
          "execution_count": 8
        }
      ],
      "source": [
        "import os\n",
        "if \"LOCAL_RANK\" not in os.environ:\n",
        "    os.environ[\"LOCAL_RANK\"] = \"0\"\n",
        "\n",
        "import torch\n",
        "import json\n",
        "import tempfile\n",
        "from flask import Flask, request, jsonify, send_file\n",
        "from flask_cors import CORS\n",
        "from pyngrok import ngrok\n",
        "from pdf2image import convert_from_path\n",
        "from PIL import Image, ImageDraw\n",
        "from transformers import AutoModelForCausalLM, AutoProcessor, AutoTokenizer\n",
        "from qwen_vl_utils import process_vision_info\n",
        "from dots_ocr.utils import dict_promptmode_to_prompt\n",
        "import base64\n",
        "from io import BytesIO\n",
        "import matplotlib.pyplot as plt\n",
        "import uuid\n",
        "\n",
        "# Initialize Flask app\n",
        "app = Flask(__name__)\n",
        "CORS(app)"
      ]
    },
    {
      "cell_type": "code",
      "execution_count": 9,
      "metadata": {
        "id": "wG9rNghXSEUh"
      },
      "outputs": [],
      "source": [
        "def inference(image_path, prompt, model, processor):\n",
        "    messages = [\n",
        "        {\n",
        "            \"role\": \"user\",\n",
        "            \"content\": [\n",
        "                {\"type\": \"image\", \"image\": image_path},\n",
        "                {\"type\": \"text\", \"text\": prompt},\n",
        "            ],\n",
        "        }\n",
        "    ]\n",
        "\n",
        "    text = processor.apply_chat_template(messages, tokenize=False, add_generation_prompt=True)\n",
        "    image_inputs, video_inputs = process_vision_info(messages)\n",
        "\n",
        "    inputs = processor(\n",
        "        text=[text],\n",
        "        images=image_inputs,\n",
        "        videos=video_inputs,\n",
        "        padding=True,\n",
        "        return_tensors=\"pt\",\n",
        "    ).to(\"cuda\")\n",
        "\n",
        "    generated_ids = model.generate(**inputs, max_new_tokens=24000)\n",
        "    generated_ids_trimmed = [\n",
        "        out_ids[len(in_ids):] for in_ids, out_ids in zip(inputs.input_ids, generated_ids)\n",
        "    ]\n",
        "    output_text = processor.batch_decode(\n",
        "        generated_ids_trimmed,\n",
        "        skip_special_tokens=True,\n",
        "        clean_up_tokenization_spaces=False,\n",
        "    )[0]\n",
        "\n",
        "    print(\"🔹 Raw model output:\\n\", output_text)\n",
        "\n",
        "    # # Try parsing as JSON if DotsOCR returned structured result\n",
        "    # ocr_results = []\n",
        "    # try:\n",
        "    #     parsed = json.loads(output_text)\n",
        "    #     if isinstance(parsed, list):\n",
        "    #         ocr_results = parsed\n",
        "    # except Exception:\n",
        "    #     print(\"⚠️ Model output is not valid JSON, skipping bbox parsing.\")\n",
        "\n",
        "    return output_text\n"
      ]
    },
    {
      "cell_type": "code",
      "execution_count": 10,
      "metadata": {
        "id": "dQM-X4iE8gJo"
      },
      "outputs": [],
      "source": [
        "@app.route('/process-image', methods=['POST'])\n",
        "def process_image():\n",
        "    \"\"\"Process uploaded image and perform OCR\"\"\"\n",
        "    try:\n",
        "        # Check if model is loaded\n",
        "        if model is None or processor is None:\n",
        "            return jsonify({\"error\": \"Model not loaded\"}), 500\n",
        "\n",
        "        # Handle both multipart file upload and JSON base64 data\n",
        "        file_data = None\n",
        "        filename = \"unknown.jpg\"\n",
        "        include_annotated = False\n",
        "        prompt_modes = 'all'\n",
        "\n",
        "        # Check content type to determine how to parse the request\n",
        "        content_type = request.content_type or ''\n",
        "\n",
        "        if content_type.startswith('application/json'):\n",
        "            # Handle JSON with base64 data\n",
        "            json_data = request.get_json()\n",
        "            if not json_data:\n",
        "                return jsonify({\"error\": \"No JSON data provided\"}), 400\n",
        "\n",
        "            if 'file_data' not in json_data:\n",
        "                return jsonify({\"error\": \"No file_data in JSON\"}), 400\n",
        "\n",
        "            try:\n",
        "                # Decode base64 to binary\n",
        "                file_data = base64.b64decode(json_data['file_data'])\n",
        "                filename = json_data.get('filename', 'unknown.jpg')\n",
        "                include_annotated = json_data.get('include_annotated', False)\n",
        "                prompt_modes = json_data.get('prompt_modes', 'all')\n",
        "            except Exception as e:\n",
        "                return jsonify({\"error\": f\"Invalid base64 data: {str(e)}\"}), 400\n",
        "\n",
        "        elif content_type.startswith('multipart/form-data'):\n",
        "            # Handle traditional file upload\n",
        "            if 'file' not in request.files:\n",
        "                return jsonify({\"error\": \"No file uploaded\"}), 400\n",
        "\n",
        "            file = request.files['file']\n",
        "            if file.filename == '':\n",
        "                return jsonify({\"error\": \"No file selected\"}), 400\n",
        "\n",
        "            file_data = file.read()\n",
        "            filename = file.filename\n",
        "            include_annotated = request.form.get('include_annotated', 'false').lower() == 'true'\n",
        "            prompt_modes = request.form.get('prompt_modes', 'all')\n",
        "\n",
        "        else:\n",
        "            return jsonify({\"error\": \"Unsupported content type. Use application/json or multipart/form-data\"}), 400\n",
        "\n",
        "        # Validate file data\n",
        "        if not file_data:\n",
        "            return jsonify({\"error\": \"No file data received\"}), 400\n",
        "\n",
        "        # Save file data to temporary file\n",
        "        with tempfile.NamedTemporaryFile(delete=False, suffix='.jpg') as temp_img:\n",
        "            temp_img.write(file_data)\n",
        "            image_path = temp_img.name\n",
        "        prompt = \"Extract the text content from this image\"\n",
        "        result = inference(image_path, prompt, model, processor)\n",
        "\n",
        "        # # Run OCR with different prompt modes\n",
        "        # prompt_modes_to_use = dict_promptmode_to_prompt.keys() if prompt_modes == 'all' else [prompt_modes]\n",
        "\n",
        "        # for prompt_mode in prompt_modes_to_use:\n",
        "        #     if prompt_mode in dict_promptmode_to_prompt:\n",
        "        #         prompt = dict_promptmode_to_prompt[prompt_mode]\n",
        "        #         print(f\"🔹 Running with prompt mode: {prompt_mode}\")\n",
        "\n",
        "        #         ocr_results = inference(image_path, prompt, model, processor)\n",
        "        #         total_ocrs.extend(ocr_results)\n",
        "\n",
        "        result = {\n",
        "            \"success\": True,\n",
        "            \"ocr_results\": result,\n",
        "            \"annotated_image\": None,\n",
        "            \"filename\": filename\n",
        "        }\n",
        "\n",
        "\n",
        "        return jsonify(result)\n",
        "\n",
        "    except Exception as e:\n",
        "        print(f\"Error processing image: {e}\")\n",
        "        return jsonify({\"error\": str(e)}), 500"
      ]
    },
    {
      "cell_type": "code",
      "execution_count": 11,
      "metadata": {
        "id": "hRZdHgEoRGzq"
      },
      "outputs": [],
      "source": [
        "def load_model():\n",
        "    \"\"\"Load the OCR model and processor\"\"\"\n",
        "    global model, processor\n",
        "\n",
        "    model_path = \"./weights/DotsOCR\"\n",
        "    model = AutoModelForCausalLM.from_pretrained(\n",
        "        model_path,\n",
        "        attn_implementation=\"flash_attention_2\",\n",
        "        torch_dtype=torch.bfloat16,\n",
        "        device_map=\"auto\",\n",
        "        trust_remote_code=True,\n",
        "    )\n",
        "    processor = AutoProcessor.from_pretrained(model_path, trust_remote_code=True)\n",
        "    print(\"✅ Model and processor loaded successfully\")"
      ]
    },
    {
      "cell_type": "code",
      "execution_count": null,
      "metadata": {
        "id": "v4Wphc9pP3kg",
        "outputId": "9724ea05-97c1-4b1e-bbc7-b02638d0b22c",
        "colab": {
          "base_uri": "https://localhost:8080/",
          "height": 1000,
          "referenced_widgets": [
            "bf6060c323c04ef4ac09dc331fadc2de",
            "3399ce26fca44996bf610e0a68d0dfcb",
            "9af9e21d83ef436583d47ce4017c47b2",
            "ef3a80dcbd0d4838827bc607d062399b",
            "eeea667ebb9b42e6809f2388719a7cc3",
            "2e705cfd4c0746e6877bd44ac1655d4c",
            "5fa9c7d9f51b428d8f755ea549e46c21",
            "a985858bab76485b814e89697b980445",
            "fa06483f13144470a91b33e6f5bebd29",
            "9f8ae255b21b4202b7a1e095c2ed5847",
            "cbe034320c9f411c99bd80f62feb549b"
          ]
        }
      },
      "outputs": [
        {
          "output_type": "stream",
          "name": "stdout",
          "text": [
            "🔄 Loading OCR model...\n"
          ]
        },
        {
          "output_type": "display_data",
          "data": {
            "text/plain": [
              "Loading checkpoint shards:   0%|          | 0/2 [00:00<?, ?it/s]"
            ],
            "application/vnd.jupyter.widget-view+json": {
              "version_major": 2,
              "version_minor": 0,
              "model_id": "bf6060c323c04ef4ac09dc331fadc2de"
            }
          },
          "metadata": {}
        },
        {
          "output_type": "stream",
          "name": "stderr",
          "text": [
            "Using a slow image processor as `use_fast` is unset and a slow processor was saved with this model. `use_fast=True` will be the default behavior in v4.52, even if the model was saved with a slow processor. This will result in minor differences in outputs. You'll still be able to use a slow processor with `use_fast=False`.\n"
          ]
        },
        {
          "output_type": "stream",
          "name": "stdout",
          "text": [
            "✅ Model and processor loaded successfully\n",
            "🌐 ngrok tunnel: NgrokTunnel: \"https://unagglomerative-asparaginous-nevada.ngrok-free.dev\" -> \"http://localhost:5000\"\n",
            "🚀 Starting Flask server...\n",
            " * Serving Flask app '__main__'\n",
            " * Debug mode: off\n"
          ]
        },
        {
          "output_type": "stream",
          "name": "stderr",
          "text": [
            "INFO:werkzeug:\u001b[31m\u001b[1mWARNING: This is a development server. Do not use it in a production deployment. Use a production WSGI server instead.\u001b[0m\n",
            " * Running on all addresses (0.0.0.0)\n",
            " * Running on http://127.0.0.1:5000\n",
            " * Running on http://172.28.0.12:5000\n",
            "INFO:werkzeug:\u001b[33mPress CTRL+C to quit\u001b[0m\n",
            "Setting `pad_token_id` to `eos_token_id`:151643 for open-end generation.\n",
            "/usr/local/lib/python3.12/dist-packages/transformers/utils/generic.py:965: FutureWarning: Both `num_logits_to_keep` and `logits_to_keep` are set for `DotsOCRForCausalLM.forward`. Using `logits_to_keep=1` and ignoring deprecated `num_logits_to_keep=None`.\n",
            "  output = func(self, *args, **kwargs)\n",
            "INFO:werkzeug:127.0.0.1 - - [21/Oct/2025 05:16:09] \"POST /process-image HTTP/1.1\" 200 -\n"
          ]
        },
        {
          "output_type": "stream",
          "name": "stdout",
          "text": [
            "🔹 Raw model output:\n",
            " CỘNG HÒA XÃ HỘI CHỦ NGHĨA VIỆT NAM\n",
            "Độc lập – Tự do – Hạnh phúc\n",
            "\n",
            "Đắk Nông, ngày 26 tháng 3 năm 2024\n",
            "\n",
            "## QUYẾT ĐỊNH\n",
            "\n",
            "### Ban hành Quy định về giao khoán mức tiềnàu xe đối với lao động nghỉ phép năm\n",
            "\n",
            "## GIÁM ĐỐC CÔNG TY NHÔM ĐẮK NÔNG - TKV\n",
            "\n",
            "Căn cứ Bộ Luật Lao động ngày 20/11/2019;\n",
            "\n",
            "Căn cứ Quyết định số 1833/QĐ-TKV ngày 18/9/2015 của Hội đồng thành viên Tập đoàn Công nghiệp Than – Khoáng sản Việt Nam về việc thành lập Chi nhánh Tập đoàn Công nghiệp Than - Khoáng sản Việt Nam - Công ty Nhôm ăng Nông - TKV;\n",
            "\n",
            "Căn cứ Quyết định số 1252/QĐ-TKV ngày 16/7/2018 của Hội đồng thành viên Tập đoàn Công nghiệp Than - Khoáng sản Việt Nam về việc phê duyệt quy chế tổ chức và hoạt động của Công ty Nhôm Đắk Nông - TKV;\n",
            "\n",
            "Xét đề nghị của Kế toán trưởng, Chánh Văn phòng, Trưởng phòng Tổ chức nhân sự.\n",
            "\n",
            "## QUYẾT ĐỊNH\n",
            "\n",
            "**Điều 1.** Ban hành kèm theo Quyết định này “Quy định về giao khoán mức tiềnàu xe đối với lao động nghỉ phép năm”.\n",
            "\n",
            "**Điều 2.** Quyết định này có hiệu lực kể từ ngày ký ban hành và thay thế Quyết định số 1591/QĐ-DNA ngày 31/8/2022 của Giám đốc Công ty Nhôm Đắk Nông - TKV về việc giao khoán thanh toán tiềnàu xe đối với CBCNV, người lao động.\n",
            "\n",
            "**Điều 3.** Các Phó Giám đốc, Kế toán trưởng, Chánh Văn phòng, Trưởng/Phó các phòng, phân xưởng và cá nhân liên chịu trách nhiệm thi hành quyết định này./\n",
            "\n",
            "**Nơi nhận:**\n",
            "\n",
            "- Như Điều 3 (T/h);\n",
            "\n",
            "- Lưu: VT, KT-TC (02b).\n",
            "\n",
            "GIÁM ĐỐC\n",
            "\n",
            "Nguyễn Bá Phong\n"
          ]
        },
        {
          "output_type": "stream",
          "name": "stderr",
          "text": [
            "Setting `pad_token_id` to `eos_token_id`:151643 for open-end generation.\n",
            "INFO:werkzeug:127.0.0.1 - - [21/Oct/2025 05:16:54] \"POST /process-image HTTP/1.1\" 200 -\n"
          ]
        },
        {
          "output_type": "stream",
          "name": "stdout",
          "text": [
            "🔹 Raw model output:\n",
            " # QUY ĐỊNH VỀ GIAO KHOÁN MỨC TIỀN TÀU XE ĐỐI VỚI NGƯỜI LAO ĐỘNG NGHỈ PHÉP NĂM\n",
            "\n",
            "(Ban hành kèm theo Quyết định số 595/QĐ-DNA ngày 26 tháng 3 năm 2024 của Giám đốc Công ty Nhôm Đắk Nông - TKV)\n",
            "\n",
            "## Chương I\n",
            "\n",
            "### QUY ĐỊNH CHUNG\n",
            "\n",
            "**Điều 1. Trong quy định này, các từ ngữ dưới đây được hiểu như sau:**\n",
            "\n",
            "1. \"Ttxp\": Tiền cước phí tàn, xe đi lại đối với cán bộ, công nhân viên (CBCNV), người lao động nghỉ phép năm.\n",
            "\n",
            "2. \"Tháng t\": Thời gian làm việc thực tế (là số tháng làm việc thực tế trong năm <= 12 và không kể thời gian nghỉ không hưởng lương).\n",
            "\n",
            "3. \"Ttxp12\": Tiền cước phí tàn, xe đi lại được duyệt/1 chiều cho CBCNV, người lao động có đủ 12 tháng làm việc thực tế.\n",
            "\n",
            "4. \"CBCNV, người lao động\": là cán bộ, công nhân viên, người lao động ký họp đồng lao động tại Công ty Nhôm Đắk Nông - TKV.\n",
            "\n",
            "**Điều 2. Mục đích và ý nghĩa**\n",
            "\n",
            "1. Hỗ trợ một phần chi phí đi lại cho CBCNV, người lao động trong DNA theo quy định nghỉ phép năm.\n",
            "\n",
            "2. Thống nhất cách tính cước phí tàn hoặc xe tạo sự công bằng, minh bạch và đồng thuận trong toàn Công ty.\n",
            "\n",
            "3. Làm cơ sở cho công tác khoán chi phí sau này.\n",
            "\n",
            "**Điều 3. Phạm vi điều chỉnh và đối tượng áp dụng**\n",
            "\n",
            "1. Phạm vi điều chỉnh: áp dụng cho việc đi lại trên lãnh thổ Việt Nam, địa điểm nghỉ phép là hộ khẩu thường trú của bố, mẹ; bố, mẹ vợ hoặc chồng; chồng hoặc vợ; con hoặc quê quán.\n",
            "\n",
            "2. Đối tượng áp dụng: CBCNV, người lao động của DNA.\n",
            "\n",
            "**Điều 4. Nguyên tắc chung**\n",
            "\n",
            "- Mỗi CBCNV, người lao động chỉ được thanh toán Ttxp tối đa một lần/năm.\n",
            "\n",
            "- Cách tính :\n",
            "\n",
            "$$ Ttxp = \\frac{Ttxp12}{12} \\times Tháng t $$\n",
            "\n",
            "Trong đó:\n",
            "\n",
            "+ Ttxp: Tiền tàn xe phép\n"
          ]
        },
        {
          "output_type": "stream",
          "name": "stderr",
          "text": [
            "Setting `pad_token_id` to `eos_token_id`:151643 for open-end generation.\n",
            "INFO:werkzeug:127.0.0.1 - - [21/Oct/2025 05:18:02] \"POST /process-image HTTP/1.1\" 200 -\n"
          ]
        },
        {
          "output_type": "stream",
          "name": "stdout",
          "text": [
            "🔹 Raw model output:\n",
            " + Tháng tt: Tháng thực tế được hưởng chế độ phép\n",
            "\n",
            "+ Ttxp12: Tiền tàiu xe phép đủ 1 năm làm việc\n",
            "\n",
            "## Chương II\n",
            "\n",
            "### QUY ĐỊNH VỀ KHOÁN TIỀN TÀU XE ĐI PHÉP VÀ PHỤ CẤP\n",
            "\n",
            "**Điều 5. Tiền cước phí, tàiu xe đi lại 1 chiều cho CBCNV, người lao động (có đủ 12 tháng làm việc thực tế)**\n",
            "\n",
            "<table><thead><tr><td>TT</td><td>Nơi đăng ký nghỉ phép</td><td>Số tiền 1 chiều (đồng)</td></tr></thead><tbody><tr><td>1</td><td>Hà Nội, Hà Nam, Nam Định, Thái Bình, Hưng Yên, Hải Dương, Bắc Ninh, Bắc Giang, Thái Nguyên, Vĩnh Phúc, Phú Thọ, Hòa Bình.</td><td>1.460.000</td></tr><tr><td>2</td><td>Các tỉnh phía Bắc còn lại (Lào Cai, Cao Bằng, Quảng Ninh...)</td><td>1.520.000</td></tr><tr><td>3</td><td>Ninh Bình, Thanh Hóa.</td><td>1.400.000</td></tr><tr><td>4</td><td>Nghệ An, Hà Tĩnh.</td><td>1.340.000</td></tr><tr><td>5</td><td>Quảng Bình, Quảng Trị.</td><td>1.280.000</td></tr><tr><td>6</td><td>Huế, Đà Nẵng.</td><td>1.220.000</td></tr><tr><td>7</td><td>Quảng Ngãi, Quảng Nam, Phú Yên, Bình Định.</td><td>1.160.000</td></tr><tr><td>8</td><td>Khánh Hòa, Ninh Thuận, Bình Thuận, Kon Tum, Bà Rịa Vũng Tàu.</td><td>1.100.000</td></tr><tr><td>9</td><td>Gia Lai, Tp HCM, Đồng Nai, Tây Ninh.</td><td>1.040.000</td></tr><tr><td>10</td><td>Đăk Lăk, Đăk Nông, Lâm Đồng, Bình Phước, Bình Dương.</td><td>980.000</td></tr><tr><td>11</td><td>Long An, Tiền Giang, Vĩnh Long, Cần Thơ, Bến Tre, Trà Vinh, Đồng Tháp.</td><td>1.100.000</td></tr><tr><td>12</td><td>Hậu Giang, Sóc Trăng, Bạc Liêu, Cà Mau, An Giang, Kiên Giang.</td><td>1.160.000</td></tr></tbody></table>\n",
            "\n",
            "**Ghi chú:**\n",
            "\n",
            "- Mức khoán trên tính cho một lượt đi hoặc về dựa vào vị trí địa lý, mạng lưới giao thông đường bộ kết nối với tỉnh Đăk Nông có tham khảo giá vé tàiu Bắc - Nam và một số hãng xe khách uy tín. Mức khoán sẽ điều chỉnh khi có biến động về cước phí đi lại +/- 10% hoặc có quy định mới về thanh toán tiền tàiu, xe đối với CBCNV, người lao động nghỉ phép năm.\n",
            "\n",
            "- Đối với CBCNV, người lao động không nghỉ phép năm hoặc có nghỉ phép năm nhưng chưa thanh toán tiền tàiu xe phép theo mức khoán thì được hỗ trợ tính cho một lượt đi/ve theo mức khoán của nơi đăng ký nghỉ phép Đăk Lăk, Đăk Nông, Lâm Đồng, Bình Phước, Bình Dương là 980.000đ.\n",
            "\n",
            "**Điều 6. Tổ chức thực hiện**\n",
            "\n",
            "1. CBCNV, người lao động nghỉ phép năm khi thanh toán tiền hỗ trợ đi lại cần có xác nhận của địa phương nơi đăng ký nghỉ, xác nhận của phụ trách phòng/phân xưởng và xác nhận của phòng Tổ chức Nhân sự trên “Giấy nghỉ phép”.\n",
            "\n",
            "2. Thời hạn thanh toán:\n",
            "\n",
            "a) Nhận chứng từ thanh toán từ ngày 01/7 của năm nghỉ phép (các phòng, phân xưởng tổng họp hồ sơ thanh toán 1 tháng/lần cho CBCNV, người lao động).\n"
          ]
        },
        {
          "output_type": "stream",
          "name": "stderr",
          "text": [
            "Setting `pad_token_id` to `eos_token_id`:151643 for open-end generation.\n",
            "INFO:werkzeug:127.0.0.1 - - [21/Oct/2025 05:18:33] \"POST /process-image HTTP/1.1\" 200 -\n"
          ]
        },
        {
          "output_type": "stream",
          "name": "stdout",
          "text": [
            "🔹 Raw model output:\n",
            " b) Thời gian thanh toán cuối cùng trong năm là ngày 20/3 năm tiếp theo của năm nghỉ phép.\n",
            "\n",
            "3. Trong quá trình thực hiện nếu có vướng mắc, các đơn vị gửi ý kiến về phòng Kế toán - Tài chính để tổng hợp báo cáo trình Giám đốc Công ty xem xét điều chỉnh, bổ sung cho phù hợp.\n",
            "\n",
            "4. Các quy định khác không quy định trong Quy định này thì thực hiện theo quy định của Tập đoàn Công nghiệp Than – Khoáng sản Việt Nam hoặc các quy định của pháp luật có liên quan. Trong trường hợp các văn bản Quy phạm pháp luật có liên quan và quy định của Tập đoàn Công nghiệp Than – Khoáng sản Việt Nam có sự thay đổi thì dương nhiên phải tham chiếu và áp dụng theo quy định đó.\n"
          ]
        },
        {
          "output_type": "stream",
          "name": "stderr",
          "text": [
            "Setting `pad_token_id` to `eos_token_id`:151643 for open-end generation.\n",
            "Setting `pad_token_id` to `eos_token_id`:151643 for open-end generation.\n",
            "Setting `pad_token_id` to `eos_token_id`:151643 for open-end generation.\n",
            "INFO:werkzeug:127.0.0.1 - - [21/Oct/2025 05:35:41] \"POST /process-image HTTP/1.1\" 200 -\n"
          ]
        },
        {
          "output_type": "stream",
          "name": "stdout",
          "text": [
            "🔹 Raw model output:\n",
            " Eternal was founded in 1964 in Kaohsiung,Taiwan. Based on the outlook of future development and sustainable business, it was renamed Eternal Materials Co.,Ltd in June 2019.\n",
            "\n",
            "In its early stage, it mainly produced the civil resin and then expanded its business scope to produce the industrial resin. In 1985, it began to produce the hi-tech electrochemical materials such as copper-clad laminates and dry film, extended its scale of operation continuously and sold its products to North America, Europe, Southeast Asia, Northeast Asia, Africa and other regions.\n",
            "\n",
            "## Specialty Material Division\n",
            "\n",
            "Specialty Material Division mainly produces Special (Meth-)Acrylated Monomers & Oligomers. UV system is a promising application technology with solid benefits including energy saving, environmental friendly, cost saving due to easily automated production system, outstanding film properties, and as foundation for photo-resist technology. Eternal, one of the largest UV curable Monomers & Oligomers material suppliers, Many kinds of monomers and oligomers have been approved by renowned companies worldwide.\n",
            "\n",
            "Recent years, Specialty Material Division has been committed to new materials, technology and process. Now we have developed a series of oligomers and monomers with special performance and structure, widely used in coatings, inks adhesive, applications, etc. We would like to create a bright future in UV industry with you.\n",
            "\n",
            "## Company Size\n",
            "\n",
            "Overall Sales Revenue in 2020: NT$38.4 billion\n",
            "\n",
            "Number of Employees: 4,965 (2020)\n"
          ]
        },
        {
          "output_type": "stream",
          "name": "stderr",
          "text": [
            "INFO:werkzeug:127.0.0.1 - - [21/Oct/2025 05:35:41] \"POST /process-image HTTP/1.1\" 200 -\n",
            "INFO:werkzeug:127.0.0.1 - - [21/Oct/2025 05:35:41] \"POST /process-image HTTP/1.1\" 200 -\n"
          ]
        },
        {
          "output_type": "stream",
          "name": "stdout",
          "text": [
            "🔹 Raw model output:\n",
            " Eternal was founded in 1964 in Kaohsiung,Taiwan. Based on the outlook of future development and sustainable business, it was renamed Eternal Materials Co.,Ltd in June 2019.\n",
            "\n",
            "In its early stage, it mainly produced the civil resin and then expanded its business scope to produce the industrial resin. In 1985, it began to produce the hi-tech electrochemical materials such as copper-clad laminates and dry film, extended its scale of operation continuously and sold its products to North America, Europe, Southeast Asia, Northeast Asia, Africa and other regions.\n",
            "\n",
            "## Specialty Material Division\n",
            "\n",
            "Specialty Material Division mainly produces Special (Meth-)Acrylated Monomers & Oligomers. UV system is a promising application technology with solid benefits including energy saving, environmental friendly, cost saving due to easily automated production system, outstanding film properties, and as foundation for photo-resist technology. Eternal, one of the largest UV curable Monomers & Oligomers material suppliers, Many kinds of monomers and oligomers have been approved by renowned companies worldwide.\n",
            "\n",
            "Recent years, Specialty Material Division has been committed to new materials, technology and process. Now we have developed a series of oligomers and monomers with special performance and structure, widely used in coatings, inks adhesive, applications, etc. We would like to create a bright future in UV industry with you.\n",
            "\n",
            "## Company Size\n",
            "\n",
            "Overall Sales Revenue in 2020: NT$38.4 billion\n",
            "\n",
            "Number of Employees: 4,965 (2020)\n",
            "🔹 Raw model output:\n",
            " Eternal was founded in 1964 in Kaohsiung,Taiwan. Based on the outlook of future development and sustainable business, it was renamed Eternal Materials Co.,Ltd in June 2019.\n",
            "\n",
            "In its early stage, it mainly produced the civil resin and then expanded its business scope to produce the industrial resin. In 1985, it began to produce the hi-tech electrochemical materials such as copper-clad laminates and dry film, extended its scale of operation continuously and sold its products to North America, Europe, Southeast Asia, Northeast Asia, Africa and other regions.\n",
            "\n",
            "## Specialty Material Division\n",
            "\n",
            "Specialty Material Division mainly produces Special (Meth-)Acrylated Monomers & Oligomers. UV system is a promising application technology with solid benefits including energy saving, environmental friendly, cost saving due to easily automated production system, outstanding film properties, and as foundation for photo-resist technology. Eternal, one of the largest UV curable Monomers & Oligomers material suppliers, Many kinds of monomers and oligomers have been approved by renowned companies worldwide.\n",
            "\n",
            "Recent years, Specialty Material Division has been committed to new materials, technology and process. Now we have developed a series of oligomers and monomers with special performance and structure, widely used in coatings, inks adhesive, applications, etc. We would like to create a bright future in UV industry with you.\n",
            "\n",
            "## Company Size\n",
            "\n",
            "Overall Sales Revenue in 2020: NT$38.4 billion\n",
            "\n",
            "Number of Employees: 4,965 (2020)\n"
          ]
        }
      ],
      "source": [
        "# Load model first\n",
        "print(\"🔄 Loading OCR model...\")\n",
        "load_model()\n",
        "\n",
        "# Set up ngrok (you'll need to set your authtoken)\n",
        "# Replace with your actual ngrok authtoken\n",
        "# Start ngrok tunnel\n",
        "public_url = ngrok.connect(5000)\n",
        "print(f\"🌐 ngrok tunnel: {public_url}\")\n",
        "\n",
        "# Start Flask app\n",
        "print(\"🚀 Starting Flask server...\")\n",
        "app.run(host='0.0.0.0', port=5000, debug=False)"
      ]
    },
    {
      "cell_type": "code",
      "execution_count": null,
      "metadata": {
        "id": "gO9GClejay4n"
      },
      "outputs": [],
      "source": []
    }
  ],
  "metadata": {
    "colab": {
      "provenance": [],
      "machine_shape": "hm",
      "gpuType": "L4",
      "include_colab_link": true
    },
    "kernelspec": {
      "display_name": "Python 3",
      "name": "python3"
    },
    "language_info": {
      "name": "python"
    },
    "accelerator": "GPU",
    "widgets": {
      "application/vnd.jupyter.widget-state+json": {
        "bf6060c323c04ef4ac09dc331fadc2de": {
          "model_module": "@jupyter-widgets/controls",
          "model_name": "HBoxModel",
          "model_module_version": "1.5.0",
          "state": {
            "_dom_classes": [],
            "_model_module": "@jupyter-widgets/controls",
            "_model_module_version": "1.5.0",
            "_model_name": "HBoxModel",
            "_view_count": null,
            "_view_module": "@jupyter-widgets/controls",
            "_view_module_version": "1.5.0",
            "_view_name": "HBoxView",
            "box_style": "",
            "children": [
              "IPY_MODEL_3399ce26fca44996bf610e0a68d0dfcb",
              "IPY_MODEL_9af9e21d83ef436583d47ce4017c47b2",
              "IPY_MODEL_ef3a80dcbd0d4838827bc607d062399b"
            ],
            "layout": "IPY_MODEL_eeea667ebb9b42e6809f2388719a7cc3"
          }
        },
        "3399ce26fca44996bf610e0a68d0dfcb": {
          "model_module": "@jupyter-widgets/controls",
          "model_name": "HTMLModel",
          "model_module_version": "1.5.0",
          "state": {
            "_dom_classes": [],
            "_model_module": "@jupyter-widgets/controls",
            "_model_module_version": "1.5.0",
            "_model_name": "HTMLModel",
            "_view_count": null,
            "_view_module": "@jupyter-widgets/controls",
            "_view_module_version": "1.5.0",
            "_view_name": "HTMLView",
            "description": "",
            "description_tooltip": null,
            "layout": "IPY_MODEL_2e705cfd4c0746e6877bd44ac1655d4c",
            "placeholder": "​",
            "style": "IPY_MODEL_5fa9c7d9f51b428d8f755ea549e46c21",
            "value": "Loading checkpoint shards: 100%"
          }
        },
        "9af9e21d83ef436583d47ce4017c47b2": {
          "model_module": "@jupyter-widgets/controls",
          "model_name": "FloatProgressModel",
          "model_module_version": "1.5.0",
          "state": {
            "_dom_classes": [],
            "_model_module": "@jupyter-widgets/controls",
            "_model_module_version": "1.5.0",
            "_model_name": "FloatProgressModel",
            "_view_count": null,
            "_view_module": "@jupyter-widgets/controls",
            "_view_module_version": "1.5.0",
            "_view_name": "ProgressView",
            "bar_style": "success",
            "description": "",
            "description_tooltip": null,
            "layout": "IPY_MODEL_a985858bab76485b814e89697b980445",
            "max": 2,
            "min": 0,
            "orientation": "horizontal",
            "style": "IPY_MODEL_fa06483f13144470a91b33e6f5bebd29",
            "value": 2
          }
        },
        "ef3a80dcbd0d4838827bc607d062399b": {
          "model_module": "@jupyter-widgets/controls",
          "model_name": "HTMLModel",
          "model_module_version": "1.5.0",
          "state": {
            "_dom_classes": [],
            "_model_module": "@jupyter-widgets/controls",
            "_model_module_version": "1.5.0",
            "_model_name": "HTMLModel",
            "_view_count": null,
            "_view_module": "@jupyter-widgets/controls",
            "_view_module_version": "1.5.0",
            "_view_name": "HTMLView",
            "description": "",
            "description_tooltip": null,
            "layout": "IPY_MODEL_9f8ae255b21b4202b7a1e095c2ed5847",
            "placeholder": "​",
            "style": "IPY_MODEL_cbe034320c9f411c99bd80f62feb549b",
            "value": " 2/2 [00:02&lt;00:00,  1.06it/s]"
          }
        },
        "eeea667ebb9b42e6809f2388719a7cc3": {
          "model_module": "@jupyter-widgets/base",
          "model_name": "LayoutModel",
          "model_module_version": "1.2.0",
          "state": {
            "_model_module": "@jupyter-widgets/base",
            "_model_module_version": "1.2.0",
            "_model_name": "LayoutModel",
            "_view_count": null,
            "_view_module": "@jupyter-widgets/base",
            "_view_module_version": "1.2.0",
            "_view_name": "LayoutView",
            "align_content": null,
            "align_items": null,
            "align_self": null,
            "border": null,
            "bottom": null,
            "display": null,
            "flex": null,
            "flex_flow": null,
            "grid_area": null,
            "grid_auto_columns": null,
            "grid_auto_flow": null,
            "grid_auto_rows": null,
            "grid_column": null,
            "grid_gap": null,
            "grid_row": null,
            "grid_template_areas": null,
            "grid_template_columns": null,
            "grid_template_rows": null,
            "height": null,
            "justify_content": null,
            "justify_items": null,
            "left": null,
            "margin": null,
            "max_height": null,
            "max_width": null,
            "min_height": null,
            "min_width": null,
            "object_fit": null,
            "object_position": null,
            "order": null,
            "overflow": null,
            "overflow_x": null,
            "overflow_y": null,
            "padding": null,
            "right": null,
            "top": null,
            "visibility": null,
            "width": null
          }
        },
        "2e705cfd4c0746e6877bd44ac1655d4c": {
          "model_module": "@jupyter-widgets/base",
          "model_name": "LayoutModel",
          "model_module_version": "1.2.0",
          "state": {
            "_model_module": "@jupyter-widgets/base",
            "_model_module_version": "1.2.0",
            "_model_name": "LayoutModel",
            "_view_count": null,
            "_view_module": "@jupyter-widgets/base",
            "_view_module_version": "1.2.0",
            "_view_name": "LayoutView",
            "align_content": null,
            "align_items": null,
            "align_self": null,
            "border": null,
            "bottom": null,
            "display": null,
            "flex": null,
            "flex_flow": null,
            "grid_area": null,
            "grid_auto_columns": null,
            "grid_auto_flow": null,
            "grid_auto_rows": null,
            "grid_column": null,
            "grid_gap": null,
            "grid_row": null,
            "grid_template_areas": null,
            "grid_template_columns": null,
            "grid_template_rows": null,
            "height": null,
            "justify_content": null,
            "justify_items": null,
            "left": null,
            "margin": null,
            "max_height": null,
            "max_width": null,
            "min_height": null,
            "min_width": null,
            "object_fit": null,
            "object_position": null,
            "order": null,
            "overflow": null,
            "overflow_x": null,
            "overflow_y": null,
            "padding": null,
            "right": null,
            "top": null,
            "visibility": null,
            "width": null
          }
        },
        "5fa9c7d9f51b428d8f755ea549e46c21": {
          "model_module": "@jupyter-widgets/controls",
          "model_name": "DescriptionStyleModel",
          "model_module_version": "1.5.0",
          "state": {
            "_model_module": "@jupyter-widgets/controls",
            "_model_module_version": "1.5.0",
            "_model_name": "DescriptionStyleModel",
            "_view_count": null,
            "_view_module": "@jupyter-widgets/base",
            "_view_module_version": "1.2.0",
            "_view_name": "StyleView",
            "description_width": ""
          }
        },
        "a985858bab76485b814e89697b980445": {
          "model_module": "@jupyter-widgets/base",
          "model_name": "LayoutModel",
          "model_module_version": "1.2.0",
          "state": {
            "_model_module": "@jupyter-widgets/base",
            "_model_module_version": "1.2.0",
            "_model_name": "LayoutModel",
            "_view_count": null,
            "_view_module": "@jupyter-widgets/base",
            "_view_module_version": "1.2.0",
            "_view_name": "LayoutView",
            "align_content": null,
            "align_items": null,
            "align_self": null,
            "border": null,
            "bottom": null,
            "display": null,
            "flex": null,
            "flex_flow": null,
            "grid_area": null,
            "grid_auto_columns": null,
            "grid_auto_flow": null,
            "grid_auto_rows": null,
            "grid_column": null,
            "grid_gap": null,
            "grid_row": null,
            "grid_template_areas": null,
            "grid_template_columns": null,
            "grid_template_rows": null,
            "height": null,
            "justify_content": null,
            "justify_items": null,
            "left": null,
            "margin": null,
            "max_height": null,
            "max_width": null,
            "min_height": null,
            "min_width": null,
            "object_fit": null,
            "object_position": null,
            "order": null,
            "overflow": null,
            "overflow_x": null,
            "overflow_y": null,
            "padding": null,
            "right": null,
            "top": null,
            "visibility": null,
            "width": null
          }
        },
        "fa06483f13144470a91b33e6f5bebd29": {
          "model_module": "@jupyter-widgets/controls",
          "model_name": "ProgressStyleModel",
          "model_module_version": "1.5.0",
          "state": {
            "_model_module": "@jupyter-widgets/controls",
            "_model_module_version": "1.5.0",
            "_model_name": "ProgressStyleModel",
            "_view_count": null,
            "_view_module": "@jupyter-widgets/base",
            "_view_module_version": "1.2.0",
            "_view_name": "StyleView",
            "bar_color": null,
            "description_width": ""
          }
        },
        "9f8ae255b21b4202b7a1e095c2ed5847": {
          "model_module": "@jupyter-widgets/base",
          "model_name": "LayoutModel",
          "model_module_version": "1.2.0",
          "state": {
            "_model_module": "@jupyter-widgets/base",
            "_model_module_version": "1.2.0",
            "_model_name": "LayoutModel",
            "_view_count": null,
            "_view_module": "@jupyter-widgets/base",
            "_view_module_version": "1.2.0",
            "_view_name": "LayoutView",
            "align_content": null,
            "align_items": null,
            "align_self": null,
            "border": null,
            "bottom": null,
            "display": null,
            "flex": null,
            "flex_flow": null,
            "grid_area": null,
            "grid_auto_columns": null,
            "grid_auto_flow": null,
            "grid_auto_rows": null,
            "grid_column": null,
            "grid_gap": null,
            "grid_row": null,
            "grid_template_areas": null,
            "grid_template_columns": null,
            "grid_template_rows": null,
            "height": null,
            "justify_content": null,
            "justify_items": null,
            "left": null,
            "margin": null,
            "max_height": null,
            "max_width": null,
            "min_height": null,
            "min_width": null,
            "object_fit": null,
            "object_position": null,
            "order": null,
            "overflow": null,
            "overflow_x": null,
            "overflow_y": null,
            "padding": null,
            "right": null,
            "top": null,
            "visibility": null,
            "width": null
          }
        },
        "cbe034320c9f411c99bd80f62feb549b": {
          "model_module": "@jupyter-widgets/controls",
          "model_name": "DescriptionStyleModel",
          "model_module_version": "1.5.0",
          "state": {
            "_model_module": "@jupyter-widgets/controls",
            "_model_module_version": "1.5.0",
            "_model_name": "DescriptionStyleModel",
            "_view_count": null,
            "_view_module": "@jupyter-widgets/base",
            "_view_module_version": "1.2.0",
            "_view_name": "StyleView",
            "description_width": ""
          }
        }
      }
    }
  },
  "nbformat": 4,
  "nbformat_minor": 0
}